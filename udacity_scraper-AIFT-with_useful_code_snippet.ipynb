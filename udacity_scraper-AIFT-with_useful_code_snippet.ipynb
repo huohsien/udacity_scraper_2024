{
 "cells": [
  {
   "cell_type": "code",
   "execution_count": null,
   "metadata": {},
   "outputs": [],
   "source": [
    "from selenium import webdriver\n",
    "from webdriver_manager.chrome import ChromeDriverManager\n",
    "\n",
    "from selenium.webdriver.common.by import By\n",
    "from selenium.webdriver.common.keys import Keys\n",
    "\n",
    "from selenium.webdriver.chrome.options import Options\n",
    "\n",
    "from selenium.webdriver.common.action_chains import ActionChains\n",
    "from selenium.webdriver.support.ui import WebDriverWait\n",
    "from selenium.webdriver.support import expected_conditions as ec\n",
    "\n",
    "import time\n",
    "import os\n",
    "\n",
    "from bs4 import BeautifulSoup\n",
    "import re\n",
    "import pandas as pd\n",
    "\n",
    "import requests\n",
    "import os\n",
    "import urllib\n",
    "from urllib.parse import urlparse\n",
    "\n",
    "import subprocess\n"
   ]
  },
  {
   "cell_type": "code",
   "execution_count": null,
   "metadata": {},
   "outputs": [],
   "source": [
    "IMPLICIT_DELAY = 60\n",
    "EXPLICIT_DELAY = 30"
   ]
  },
  {
   "cell_type": "code",
   "execution_count": null,
   "metadata": {},
   "outputs": [],
   "source": [
    "#setup option for chrome profile\n",
    "chrome_options = Options()\n",
    "\n",
    "## NEVER USE THE FOLLOWING OPTION SINCE IT WILL MAKE SUPPOSEDLY DIFFERENT WINDOWS FOR DIFFERENT CLASS MIXED IN SOME WAY!!!!\n",
    "# chrome_options.add_argument(\"user-data-dir=/Users/huohsien/Library/Application Support/Google/Chrome/Default/\")\n",
    "## the following option is to solve the error if using the above cause a problem\n",
    "# chrome_options.add_argument(\"--remote-debugging-port=9222\") \n",
    "\n",
    "prefs = {'profile.default_content_setting_values.automatic_downloads': 1}\n",
    "chrome_options.add_experimental_option(\"prefs\", prefs)\n",
    "chrome_options.add_argument('--headless')\n",
    "# chrome_options.add_argument('--start-maximized') # when used with headles enabled it is 800x600\n",
    "# chrome_options.add_argument(\"--window-size=5120,2880\") \n",
    "\n",
    "#start web driver\n",
    "driver = webdriver.Chrome(options=chrome_options)\n",
    "driver.implicitly_wait(IMPLICIT_DELAY)\n",
    "wait = WebDriverWait(driver, EXPLICIT_DELAY)"
   ]
  },
  {
   "cell_type": "code",
   "execution_count": null,
   "metadata": {},
   "outputs": [],
   "source": [
    "from selenium.common.exceptions import NoSuchElementException        \n",
    "def check_exists_by_xpath(driver, xpath):\n",
    "    try:\n",
    "        driver.find_element(\"xpath\",xpath)\n",
    "    except NoSuchElementException:\n",
    "        return False\n",
    "    return True\n",
    "\n",
    "def sync_get_element_by_xpath(driver, wait, xpath):\n",
    "\n",
    "    try:\n",
    "        wait.until(ec.presence_of_element_located((By.XPATH, xpath)))\n",
    "    except TimeoutException:\n",
    "#         print(\"Get element from xpath:{} Timeout\".format(xpath))\n",
    "        return None\n",
    "    return driver.find_element(\"xpath\",xpath)\n",
    "\n",
    "def sync_get_elements_by_xpath(driver, wait, xpath):\n",
    "\n",
    "    try:\n",
    "        wait.until(ec.presence_of_all_elements_located((By.XPATH, xpath)))\n",
    "    except TimeoutException:\n",
    "#         print(\"Get element from xpath:{} Timeout\".format(xpath))\n",
    "        return None\n",
    "    return driver.find_elements(\"xpath\",xpath)"
   ]
  },
  {
   "cell_type": "code",
   "execution_count": null,
   "metadata": {},
   "outputs": [],
   "source": [
    "root_address = 'https://learn.udacity.com/nanodegrees/nd880/parts/cd0569'\n",
    "root_folder = './ai_for_trading_course_downloaded'"
   ]
  },
  {
   "cell_type": "code",
   "execution_count": null,
   "metadata": {},
   "outputs": [],
   "source": [
    "# start\n",
    "driver.get(root_address)\n",
    "os.makedirs(root_folder, exist_ok=True)"
   ]
  },
  {
   "cell_type": "code",
   "execution_count": null,
   "metadata": {},
   "outputs": [],
   "source": [
    "sync_get_element_by_xpath(driver, wait, \"//div[text()='Sign in']\").click()\n",
    "\n",
    "email = sync_get_element_by_xpath(driver, wait, \"//input[@id='email']\")\n",
    "password = sync_get_element_by_xpath(driver, wait, \"//input[@id='revealable-password']\")\n",
    "\n",
    "email.send_keys(\"huohsien@gmail.com\")\n",
    "password.send_keys(\"Huo18941256\")\n",
    "\n",
    "sync_get_element_by_xpath(driver, wait, \"//div[@data-testid='signin-form']//span[text()='Sign in']/..\").click()\n"
   ]
  },
  {
   "cell_type": "code",
   "execution_count": null,
   "metadata": {},
   "outputs": [],
   "source": [
    "program_name = sync_get_element_by_xpath(driver, wait, \"//h1[@class='chakra-heading css-10cnqhb']\").get_attribute(\"innerHTML\")\n",
    "course_block_elms = sync_get_elements_by_xpath(driver, wait, \"//div[@class='css-pk1kta']\")"
   ]
  },
  {
   "cell_type": "code",
   "execution_count": null,
   "metadata": {},
   "outputs": [],
   "source": [
    "course_names = []\n",
    "for course_block_elm in course_block_elms:\n",
    "    course_name = sync_get_element_by_xpath(course_block_elm, wait,\"//h2[@class='chakra-heading css-ltgw47']\").get_attribute(\"innerHTML\")\n",
    "    course_names.append(course_name)\n",
    "course_names\n"
   ]
  },
  {
   "cell_type": "code",
   "execution_count": null,
   "metadata": {},
   "outputs": [],
   "source": [
    "e_header = sync_get_elements_by_xpath(driver, wait, \"//div[@class='css-4nu87b']\")\n",
    "e_content = sync_get_elements_by_xpath(driver, wait, \"//div[@class='css-dmdipe']\")\n",
    "\n",
    "header_height = int(e_header[0].get_attribute(\"scrollHeight\"))\n",
    "content_height = int(e_content[0].get_attribute(\"scrollHeight\"))\n",
    "full_page_height = content_height+header_height"
   ]
  },
  {
   "cell_type": "code",
   "execution_count": null,
   "metadata": {},
   "outputs": [],
   "source": [
    "full_page_width = int(e_header[0].get_attribute(\"scrollWidth\"))"
   ]
  },
  {
   "cell_type": "code",
   "execution_count": null,
   "metadata": {},
   "outputs": [],
   "source": [
    "# from PIL import Image\n",
    "\n",
    "# def fullpage_screenshot(driver, file):\n",
    "\n",
    "#         print(\"Starting chrome full page screenshot workaround ...\")\n",
    "\n",
    "#         total_width = driver.execute_script(\"return document.body.offsetWidth\")\n",
    "#         total_height = driver.execute_script(\"return document.body.parentNode.scrollHeight\")\n",
    "#         viewport_width = driver.execute_script(\"return document.body.clientWidth\")\n",
    "#         viewport_height = driver.execute_script(\"return window.innerHeight\")\n",
    "#         print(\"Total: ({0}, {1}), Viewport: ({2},{3})\".format(total_width, total_height,viewport_width,viewport_height))\n",
    "#         rectangles = []\n",
    "\n",
    "#         i = 0\n",
    "#         while i < total_height:\n",
    "#             ii = 0\n",
    "#             top_height = i + viewport_height\n",
    "\n",
    "#             if top_height > total_height:\n",
    "#                 top_height = total_height\n",
    "\n",
    "#             while ii < total_width:\n",
    "#                 top_width = ii + viewport_width\n",
    "\n",
    "#                 if top_width > total_width:\n",
    "#                     top_width = total_width\n",
    "\n",
    "#                 print(\"Appending rectangle ({0},{1},{2},{3})\".format(ii, i, top_width, top_height))\n",
    "#                 rectangles.append((ii, i, top_width,top_height))\n",
    "\n",
    "#                 ii = ii + viewport_width\n",
    "\n",
    "#             i = i + viewport_height\n",
    "\n",
    "#         stitched_image = Image.new('RGB', (total_width, total_height))\n",
    "#         previous = None\n",
    "#         part = 0\n",
    "\n",
    "#         for rectangle in rectangles:\n",
    "#             if not previous is None:\n",
    "#                 driver.execute_script(\"window.scrollTo({0}, {1})\".format(rectangle[0], rectangle[1]))\n",
    "#                 time.sleep(0.2)\n",
    "#                 driver.execute_script(\"document.getElementById('topnav').setAttribute('style', 'position: absolute; top: 0px;');\")\n",
    "#                 time.sleep(0.2)\n",
    "#                 print(\"Scrolled To ({0},{1})\".format(rectangle[0], rectangle[1]))\n",
    "#                 time.sleep(0.2)\n",
    "\n",
    "#             file_name = \"part_{0}.png\".format(part)\n",
    "#             print(\"Capturing {0} ...\".format(file_name))\n",
    "\n",
    "#             # driver.get_screenshot_as_file(file_name) // captured shots are inappropriate zoomed thus cropped\n",
    "            \n",
    "#             el = driver.find_element(By.TAG_NAME, \"body\")\n",
    "#             el.screenshot(file_name)\n",
    "            \n",
    "            \n",
    "#             screenshot = Image.open(file_name)\n",
    "\n",
    "#             if rectangle[1] + viewport_height > total_height:\n",
    "#                 offset = (rectangle[0], total_height - viewport_height)\n",
    "#             else:\n",
    "#                 offset = (rectangle[0], rectangle[1])\n",
    "\n",
    "#             print(\"Adding to stitched image with offset ({0}, {1})\".format(offset[0],offset[1]))\n",
    "#             stitched_image.paste(screenshot, offset)\n",
    "\n",
    "#             del screenshot\n",
    "#             os.remove(file_name)\n",
    "#             part = part + 1\n",
    "#             previous = rectangle\n",
    "\n",
    "#         stitched_image.save(file)\n",
    "#         print(\"Finishing chrome full page screenshot workaround...\")\n",
    "#         return True"
   ]
  },
  {
   "cell_type": "code",
   "execution_count": null,
   "metadata": {},
   "outputs": [],
   "source": [
    "# #setup option for chrome profile\n",
    "# chrome_options = Options()\n",
    "\n",
    "# ## NEVER USE THE FOLLOWING OPTION SINCE IT WILL MAKE SUPPOSEDLY DIFFERENT WINDOWS FOR DIFFERENT CLASS MIXED IN SOME WAY!!!!\n",
    "# # chrome_options.add_argument(\"user-data-dir=/Users/huohsien/Library/Application Support/Google/Chrome/Default/\")\n",
    "# ## the following option is to solve the error if using the above cause a problem\n",
    "# # chrome_options.add_argument(\"--remote-debugging-port=9222\") \n",
    "\n",
    "# prefs = {'profile.default_content_setting_values.automatic_downloads': 1}\n",
    "# chrome_options.add_experimental_option(\"prefs\", prefs)\n",
    "# # chrome_options.add_argument('--headless')\n",
    "# # chrome_options.add_argument('--start-maximized') # when used with headles enabled it is 800x600\n",
    "# # chrome_options.add_argument(\"--window-size=5120,2880\") \n",
    "\n",
    "# #start web driver\n",
    "# driver = webdriver.Chrome(options=chrome_options)\n",
    "# driver.implicitly_wait(IMPLICIT_DELAY)\n",
    "# wait = WebDriverWait(driver, EXPLICIT_DELAY)\n",
    "# driver.get(\"https://www.69shu.pro/txt/29612/20561845#google_vignette\")"
   ]
  },
  {
   "cell_type": "code",
   "execution_count": null,
   "metadata": {},
   "outputs": [],
   "source": [
    "driver.set_window_size(full_page_width,full_page_height)\n",
    "\n",
    "el = driver.find_element(By.TAG_NAME, \"body\")\n",
    "el.screenshot(\"main.png\")\n"
   ]
  },
  {
   "cell_type": "code",
   "execution_count": null,
   "metadata": {},
   "outputs": [],
   "source": [
    "# el = driver.find_element(By.TAG_NAME, \"body\")\n",
    "# el.screenshot(\"main.png\")"
   ]
  },
  {
   "cell_type": "code",
   "execution_count": null,
   "metadata": {},
   "outputs": [],
   "source": [
    "# fullpage_screenshot(driver, \"main.png\")"
   ]
  },
  {
   "cell_type": "code",
   "execution_count": null,
   "metadata": {},
   "outputs": [],
   "source": [
    "# driver.execute_script(\"return document.body.scrollHeight\")\n"
   ]
  },
  {
   "cell_type": "code",
   "execution_count": null,
   "metadata": {},
   "outputs": [],
   "source": [
    "# driver.execute_script(\"return document.body.offsetHeight\")"
   ]
  },
  {
   "cell_type": "code",
   "execution_count": null,
   "metadata": {},
   "outputs": [],
   "source": [
    "# element = driver.find_element(By.TAG_NAME, \"body\")\n",
    "\n",
    "# element.get_attribute(\"scrollHeight\")"
   ]
  },
  {
   "cell_type": "code",
   "execution_count": null,
   "metadata": {},
   "outputs": [],
   "source": [
    "# # Prepare loop through all topics\n",
    "# topic_elms = sync_get_elements_by_xpath(\"//*[@id='tree-core-curriculum']/*\")\n",
    "# num_topics = len(topic_elms)\n",
    "\n",
    "# # iterate each topic\n",
    "# for idx_topics in range(num_topics):\n",
    "    \n",
    "#     # Create topic folder\n",
    "#     topic_name = ''.join(topic_elms[idx_topics].text.split('\\n')[0:2])                   \n",
    "#     os.makedirs(os.path.join(root_folder, topic_name), exist_ok=True)\n",
    "    \n",
    "#     debug_breakpoint(\"Topic {}\".format(topic_name), prompt_message)\n",
    "    \n",
    "#     # click into a topic\n",
    "#     link_topic = topic_elms[idx_topics].find_element_by_xpath(\"./a\")\n",
    "#     link_topic.click()\n",
    "    \n",
    "#     # Prepare loop through all lessons\n",
    "#     expand_all_complete_lessons()\n",
    "    \n",
    "#     lesson_elms = sync_get_elements_by_xpath(\"//div[@data-test='part-syllabus']/ol/li\")\n",
    "#     num_lessons = len(lesson_elms)\n",
    "    \n",
    "#     #iterate each lesson\n",
    "#     for idx_lesson in range(num_lessons):\n",
    "\n",
    "#         # Create lesson folder\n",
    "#         lesson_elm = lesson_elms[idx_lesson]\n",
    "#         lesson_name = ' - '.join(lesson_elm.text.split('\\n')[1:3])                   \n",
    "#         os.makedirs(os.path.join(root_folder, topic_name,lesson_name), exist_ok=True)\n",
    "\n",
    "#         debug_breakpoint(\"Lesson {}\".format(lesson_name), prompt_message)\n",
    "\n",
    "#         # click into a lesson\n",
    "#         link_lesson = lesson_elm.find_element_by_xpath(\"./div/div/a\")\n",
    "#         link_lesson.click()\n",
    "        \n",
    "#         # Prepare loop through all parts of a lesson\n",
    "#         part_elms = sync_get_elements_by_xpath(\"//*[@id='tree-concepts']/ol/*\")\n",
    "#         num_parts = len(part_elms)\n",
    "        \n",
    "#         # iterate each part\n",
    "#         for idx_part in range(num_parts):\n",
    "            \n",
    "#             # Create part folder\n",
    "#             part_elm = part_elms[idx_part]\n",
    "#             part_name = part_elm.text\n",
    "#             os.makedirs(os.path.join(root_folder, topic_name,lesson_name, part_name), exist_ok=True)\n",
    "            \n",
    "#             debug_breakpoint(\"Lesson part {}\".format(part_name), prompt_message)\n",
    "            \n",
    "#             # click into a part\n",
    "#             link_part = part_elm.find_element_by_xpath(\"./a\")\n",
    "#             link_part.click()\n",
    "            \n",
    "#             # REAL CONTENTS HERE to Be STORED!\n",
    "#             #\n",
    "#             time.sleep(DELAY_SECONDS_CONTENT_LOADING)\n",
    "            \n",
    "#             save_processed_html()\n",
    "# #             debug_breakpoint(driver.current_url, prompt_message)\n",
    "            \n",
    "#             # reflesh webElement after webpage reload\n",
    "#             part_elms = sync_get_elements_by_xpath(\"//*[@id='tree-concepts']/ol/*\")\n",
    "\n",
    "#         # go back to Lesson List\n",
    "#         back_link = sync_get_element_by_xpath(\"//h3[@class='_sidebar--header--2BaH_']/a\") \n",
    "#         back_link.click()\n",
    "        \n",
    "#         # click open the completed lessons\n",
    "#         expand_all_complete_lessons()\n",
    "        \n",
    "#         # reflesh webElement after webpage reload\n",
    "#         lesson_elms = sync_get_elements_by_xpath(\"//div[@data-test='part-syllabus']/ol/li\")\n",
    "\n",
    "#     # reflesh webElement after webpage reload\n",
    "#     topic_elms = sync_get_elements_by_xpath(\"//*[@id='tree-core-curriculum']/*\")\n",
    "    "
   ]
  },
  {
   "cell_type": "code",
   "execution_count": null,
   "metadata": {},
   "outputs": [],
   "source": [
    "# link_topic.click() "
   ]
  },
  {
   "cell_type": "code",
   "execution_count": null,
   "metadata": {},
   "outputs": [],
   "source": [
    "# expand_all_complete_lessons()\n",
    "\n"
   ]
  },
  {
   "cell_type": "code",
   "execution_count": null,
   "metadata": {},
   "outputs": [],
   "source": [
    "# element = driver.find_element_by_xpath(\"//*[h3='lesson 1']\")\n",
    "# driver.execute_script(\"return arguments[0].scrollIntoView(true);\", element)"
   ]
  },
  {
   "cell_type": "code",
   "execution_count": null,
   "metadata": {},
   "outputs": [],
   "source": [
    "# driver.set_window_size(full_page_width,full_page_height)\n",
    "\n",
    "el = driver.find_element(By.TAG_NAME, \"body\")\n",
    "el.screenshot(\"main.png\")\n"
   ]
  },
  {
   "cell_type": "code",
   "execution_count": null,
   "metadata": {},
   "outputs": [],
   "source": [
    "# e_header = sync_get_elements_by_xpath(driver, wait, \"//div[@class='css-4nu87b']\")\n",
    "# e_content = sync_get_elements_by_xpath(driver, wait, \"//div[@class='css-dmdipe']\")\n",
    "\n",
    "# header_height = int(e_header[0].get_attribute(\"scrollHeight\"))\n",
    "# content_height = int(e_content[0].get_attribute(\"scrollHeight\"))\n",
    "\n",
    "# full_page_height = content_height+header_height\n",
    "\n",
    "# full_page_width = int(e_header[0].get_attribute(\"scrollWidth\"))"
   ]
  }
 ],
 "metadata": {
  "kernelspec": {
   "display_name": "Python 3",
   "language": "python",
   "name": "python3"
  },
  "language_info": {
   "codemirror_mode": {
    "name": "ipython",
    "version": 3
   },
   "file_extension": ".py",
   "mimetype": "text/x-python",
   "name": "python",
   "nbconvert_exporter": "python",
   "pygments_lexer": "ipython3",
   "version": "3.8.19"
  }
 },
 "nbformat": 4,
 "nbformat_minor": 4
}
