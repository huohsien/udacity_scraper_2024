{
 "cells": [
  {
   "cell_type": "code",
   "execution_count": null,
   "metadata": {},
   "outputs": [],
   "source": [
    "from selenium import webdriver\n",
    "from webdriver_manager.chrome import ChromeDriverManager\n",
    "\n",
    "from selenium.webdriver.common.by import By\n",
    "from selenium.webdriver.common.keys import Keys\n",
    "\n",
    "from selenium.webdriver.chrome.options import Options\n",
    "\n",
    "from selenium.webdriver.common.action_chains import ActionChains\n",
    "from selenium.webdriver.support.ui import WebDriverWait\n",
    "from selenium.webdriver.support import expected_conditions as ec\n",
    "\n",
    "import time\n",
    "import os\n",
    "\n",
    "from bs4 import BeautifulSoup\n",
    "import re\n",
    "import pandas as pd\n",
    "\n",
    "import requests\n",
    "import os\n",
    "import urllib\n",
    "from urllib.parse import urlparse\n",
    "\n",
    "import subprocess\n"
   ]
  },
  {
   "cell_type": "code",
   "execution_count": null,
   "metadata": {},
   "outputs": [],
   "source": [
    "IMPLICIT_DELAY = 60\n",
    "EXPLICIT_DELAY = 30\n",
    "TAKE_SCREENSHOT = False"
   ]
  },
  {
   "cell_type": "code",
   "execution_count": null,
   "metadata": {},
   "outputs": [],
   "source": [
    "#setup option for chrome profile\n",
    "chrome_options = Options()\n",
    "\n",
    "## NEVER USE THE FOLLOWING OPTION SINCE IT WILL MAKE SUPPOSEDLY DIFFERENT WINDOWS FOR DIFFERENT CLASS MIXED IN SOME WAY!!!!\n",
    "# chrome_options.add_argument(\"user-data-dir=/Users/huohsien/Library/Application Support/Google/Chrome/Default/\")\n",
    "## the following option is to solve the error if using the above cause a problem\n",
    "# chrome_options.add_argument(\"--remote-debugging-port=9222\") \n",
    "\n",
    "prefs = {'profile.default_content_setting_values.automatic_downloads': 1}\n",
    "chrome_options.add_experimental_option(\"prefs\", prefs)\n",
    "if TAKE_SCREENSHOT:\n",
    "    chrome_options.add_argument('--headless')\n",
    "\n",
    "#start web driver\n",
    "driver = webdriver.Chrome(options=chrome_options)\n",
    "driver.implicitly_wait(IMPLICIT_DELAY)\n",
    "wait = WebDriverWait(driver, EXPLICIT_DELAY)"
   ]
  },
  {
   "cell_type": "code",
   "execution_count": null,
   "metadata": {},
   "outputs": [],
   "source": [
    "from selenium.common.exceptions import NoSuchElementException\n",
    "from selenium.common.exceptions import TimeoutException\n",
    "      \n",
    "def check_exists_by_xpath(driver, xpath):\n",
    "    try:\n",
    "        driver.find_element(\"xpath\",xpath)\n",
    "    except NoSuchElementException:\n",
    "        return False\n",
    "    return True\n",
    "\n",
    "def sync_get_element_by_xpath(driver, wait, xpath):\n",
    "\n",
    "    try:\n",
    "        wait.until(ec.presence_of_element_located((By.XPATH, xpath)))\n",
    "    except TimeoutException:\n",
    "#         print(\"Get element from xpath:{} Timeout\".format(xpath))\n",
    "        return None\n",
    "    return driver.find_element(\"xpath\",xpath)\n",
    "\n",
    "def sync_get_elements_by_xpath(driver, wait, xpath):\n",
    "\n",
    "    try:\n",
    "        wait.until(ec.presence_of_all_elements_located((By.XPATH, xpath)))\n",
    "    except TimeoutException:\n",
    "#         print(\"Get element from xpath:{} Timeout\".format(xpath))\n",
    "        return None\n",
    "    return driver.find_elements(\"xpath\",xpath)"
   ]
  },
  {
   "cell_type": "code",
   "execution_count": null,
   "metadata": {},
   "outputs": [],
   "source": [
    "root_address = 'https://learn.udacity.com/nanodegrees/nd880/parts/cd0569'\n",
    "root_folder = './ai_for_trading_course_downloaded'"
   ]
  },
  {
   "cell_type": "code",
   "execution_count": null,
   "metadata": {},
   "outputs": [],
   "source": [
    "# start\n",
    "driver.get(root_address)\n",
    "os.makedirs(root_folder, exist_ok=True)"
   ]
  },
  {
   "cell_type": "code",
   "execution_count": null,
   "metadata": {},
   "outputs": [],
   "source": [
    "sync_get_element_by_xpath(driver, wait, \"//div[text()='Sign in']\").click()\n",
    "\n",
    "email = sync_get_element_by_xpath(driver, wait, \"//input[@id='email']\")\n",
    "password = sync_get_element_by_xpath(driver, wait, \"//input[@id='revealable-password']\")\n",
    "\n",
    "email.send_keys(\"huohsien@gmail.com\")\n",
    "password.send_keys(\"Huo18941256\")\n",
    "\n",
    "sync_get_element_by_xpath(driver, wait, \"//div[@data-testid='signin-form']//span[text()='Sign in']/..\").click()\n"
   ]
  },
  {
   "cell_type": "code",
   "execution_count": null,
   "metadata": {},
   "outputs": [],
   "source": [
    "program_name = sync_get_element_by_xpath(driver, wait, \"//h1[@class='chakra-heading css-10cnqhb']\").get_attribute(\"innerHTML\")\n",
    "program_name"
   ]
  },
  {
   "cell_type": "code",
   "execution_count": null,
   "metadata": {},
   "outputs": [],
   "source": [
    "course_tab_elms = sync_get_elements_by_xpath(driver, wait, \"//div[@class='chakra-tabs__tab-panel css-1qbr3jw']\")\n",
    "\n",
    "tab_buttons = sync_get_elements_by_xpath(driver, wait, \"//div[@class='chakra-tabs__tablist css-1cul31m']/button\")\n",
    "for tab_button in tab_buttons:\n",
    "    print(\"Type: {}\".format(tab_button.get_attribute(\"innerHTML\")))\n"
   ]
  },
  {
   "cell_type": "code",
   "execution_count": null,
   "metadata": {},
   "outputs": [],
   "source": [
    "course_content_blk1 = sync_get_elements_by_xpath(driver, wait, \"//div[@class='chakra-tabs__tab-panels css-8atqhb']/div[1]//div[@class='css-pk1kta']\")[0]\n",
    "course_content_blk2 = sync_get_elements_by_xpath(driver, wait, \"//div[@class='chakra-tabs__tab-panels css-8atqhb']/div[1]//div[@class='css-1vc4pt9']\")[0] "
   ]
  },
  {
   "cell_type": "code",
   "execution_count": null,
   "metadata": {},
   "outputs": [],
   "source": [
    "course_content_blk1.find_element(\"xpath\", \"./div/div/button/div/div[1]/div/div/h2\").get_attribute(\"innerHTML\")\n"
   ]
  },
  {
   "cell_type": "code",
   "execution_count": null,
   "metadata": {},
   "outputs": [],
   "source": [
    "class_as = course_content_blk1.find_elements(\"xpath\", \"./div/div/div/div/a\")"
   ]
  },
  {
   "cell_type": "code",
   "execution_count": null,
   "metadata": {},
   "outputs": [],
   "source": [
    "for class_a in class_as:\n",
    "    class_title = class_a.find_element(\"xpath\",\"./div/h3\").get_attribute(\"innerHTML\")\n",
    "    print(\"class_title: {}\".format(class_title))\n"
   ]
  },
  {
   "cell_type": "code",
   "execution_count": null,
   "metadata": {},
   "outputs": [],
   "source": [
    "e_header = sync_get_elements_by_xpath(driver, wait, \"//div[@class='css-4nu87b']\")\n",
    "e_content = sync_get_elements_by_xpath(driver, wait, \"//div[@class='css-dmdipe']\")\n",
    "\n",
    "header_height = int(e_header[0].get_attribute(\"scrollHeight\"))\n",
    "content_height = int(e_content[0].get_attribute(\"scrollHeight\"))\n",
    "\n",
    "full_page_height = content_height+header_height\n",
    "\n",
    "full_page_width = int(e_header[0].get_attribute(\"scrollWidth\"))"
   ]
  },
  {
   "cell_type": "code",
   "execution_count": null,
   "metadata": {},
   "outputs": [],
   "source": [
    "if TAKE_SCREENSHOT:\n",
    "\n",
    "    driver.set_window_size(full_page_width,full_page_height)\n",
    "\n",
    "    el = driver.find_element(By.TAG_NAME, \"body\")\n",
    "    el.screenshot(\"main.png\")\n"
   ]
  }
 ],
 "metadata": {
  "kernelspec": {
   "display_name": "Python 3",
   "language": "python",
   "name": "python3"
  },
  "language_info": {
   "codemirror_mode": {
    "name": "ipython",
    "version": 3
   },
   "file_extension": ".py",
   "mimetype": "text/x-python",
   "name": "python",
   "nbconvert_exporter": "python",
   "pygments_lexer": "ipython3",
   "version": "3.8.19"
  }
 },
 "nbformat": 4,
 "nbformat_minor": 4
}
