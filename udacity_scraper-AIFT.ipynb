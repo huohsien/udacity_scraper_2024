{
 "cells": [
  {
   "cell_type": "code",
   "execution_count": null,
   "metadata": {},
   "outputs": [],
   "source": [
    "from selenium import webdriver\n",
    "from webdriver_manager.chrome import ChromeDriverManager\n",
    "\n",
    "from selenium.webdriver.common.by import By\n",
    "from selenium.webdriver.common.keys import Keys\n",
    "\n",
    "from selenium.webdriver.chrome.options import Options\n",
    "\n",
    "from selenium.webdriver.common.action_chains import ActionChains\n",
    "from selenium.webdriver.support.ui import WebDriverWait\n",
    "from selenium.webdriver.support import expected_conditions as ec\n",
    "\n",
    "import time\n",
    "import os\n",
    "\n",
    "from bs4 import BeautifulSoup\n",
    "import re\n",
    "import pandas as pd\n",
    "\n",
    "import requests\n",
    "import os\n",
    "import urllib\n",
    "from urllib.parse import urlparse\n",
    "\n",
    "import subprocess"
   ]
  },
  {
   "cell_type": "code",
   "execution_count": null,
   "metadata": {},
   "outputs": [],
   "source": [
    "from selenium.common.exceptions import NoSuchElementException\n",
    "from selenium.common.exceptions import TimeoutException\n",
    "from selenium.common.exceptions import ElementNotInteractableException"
   ]
  },
  {
   "cell_type": "code",
   "execution_count": null,
   "metadata": {},
   "outputs": [],
   "source": [
    "from tools import sync_get_element_by_xpath, sync_get_elements_by_xpath, take_screenshot, close_chat_panel, sign_in"
   ]
  },
  {
   "cell_type": "code",
   "execution_count": null,
   "metadata": {},
   "outputs": [],
   "source": [
    "#settings\n",
    "\n",
    "WEB_DRIVER_DEALY = 10"
   ]
  },
  {
   "cell_type": "code",
   "execution_count": null,
   "metadata": {},
   "outputs": [],
   "source": [
    "# default settings for this Udacity program\n",
    "\n",
    "download_root_folder = \"\"\n",
    "current_read_write_path = \"\"\n",
    "\n",
    "# hard-coded entry url for the program\n",
    "root_address = 'https://learn.udacity.com/nanodegrees/nd880/parts/cd0569'"
   ]
  },
  {
   "cell_type": "code",
   "execution_count": null,
   "metadata": {},
   "outputs": [],
   "source": [
    "#setup option for chrome profile\n",
    "chrome_options = Options()\n",
    "\n",
    "chrome_options.add_argument(\"user-data-dir=/Users/huohsien/Library/Application Support/Google/Chrome/Default/\")\n",
    "## the following option is to solve the error if using the above cause a problem\n",
    "# chrome_options.add_argument(\"--remote-debugging-port=9222\") \n",
    "\n",
    "prefs = {'profile.default_content_setting_values.automatic_downloads': 1}\n",
    "chrome_options.add_experimental_option(\"prefs\", prefs)\n",
    "\n",
    "#start web driver\n",
    "driver = webdriver.Chrome(options=chrome_options)\n",
    "driver.implicitly_wait(WEB_DRIVER_DEALY)\n",
    "wait = WebDriverWait(driver, WEB_DRIVER_DEALY)"
   ]
  },
  {
   "cell_type": "code",
   "execution_count": null,
   "metadata": {},
   "outputs": [],
   "source": [
    "# go to udacity\n",
    "driver.get(root_address)"
   ]
  },
  {
   "cell_type": "code",
   "execution_count": null,
   "metadata": {},
   "outputs": [],
   "source": [
    "# sign in\n",
    "sign_in(driver,wait)"
   ]
  },
  {
   "cell_type": "code",
   "execution_count": null,
   "metadata": {},
   "outputs": [],
   "source": [
    "# get the name of the program and create the root folder for storing the scraped result\n",
    "program_name = sync_get_element_by_xpath(driver, wait, \"//h1[@class='chakra-heading css-10cnqhb']\").get_attribute(\"innerHTML\")\n",
    "download_root_folder = program_name\n",
    "current_read_write_path = download_root_folder\n",
    "os.makedirs(current_read_write_path, exist_ok=False)"
   ]
  },
  {
   "cell_type": "code",
   "execution_count": null,
   "metadata": {},
   "outputs": [],
   "source": [
    "# get the two main part of this program. Hard coded!\n",
    "course_content_blk1 = sync_get_elements_by_xpath(driver, wait, \"//div[@class='chakra-tabs__tab-panels css-8atqhb']/div[1]//div[@class='css-pk1kta']\")[0]\n",
    "course_content_blk2 = sync_get_elements_by_xpath(driver, wait, \"//div[@class='chakra-tabs__tab-panels css-8atqhb']/div[1]//div[@class='css-1vc4pt9']\")[0] "
   ]
  },
  {
   "cell_type": "code",
   "execution_count": null,
   "metadata": {},
   "outputs": [],
   "source": [
    "# create folder structure for storing the scraped data for the Udacity program\n",
    "title_first_part = course_content_blk1.find_element(\"xpath\", \"./div/div/button/div/div[1]/div/div/h2\").get_attribute(\"innerHTML\")\n",
    "title_second_part = course_content_blk2.find_element(\"xpath\", \"./div/div/button/div/div[1]/div/div/h2\").get_attribute(\"innerHTML\")\n",
    "\n",
    "# keep reminding myself the current read/write folder\n",
    "current_target_folder = current_read_write_path+\"/1. \"+title_first_part\n",
    "os.makedirs(current_target_folder, exist_ok=False)\n",
    "current_target_folder = current_read_write_path+\"/2. \"+title_second_part\n",
    "os.makedirs(current_target_folder, exist_ok=False)"
   ]
  },
  {
   "cell_type": "code",
   "execution_count": null,
   "metadata": {},
   "outputs": [],
   "source": [
    "# get all the web elements of topics in the first part of the program\n",
    "class_as = course_content_blk1.find_elements(\"xpath\", \"./div/div/div/div/a\")"
   ]
  },
  {
   "cell_type": "code",
   "execution_count": null,
   "metadata": {},
   "outputs": [],
   "source": [
    "current_read_write_path = download_root_folder+\"/1. \"+title_first_part\n",
    "topic_urls = []\n",
    "topic_as = course_content_blk1.find_elements(\"xpath\", \"./div/div/div/div/a\")\n",
    "\n",
    "# for idx in range(len(topic_as)):\n",
    "for idx in[0]:\n",
    "    topic_a = topic_as[idx]\n",
    "    topic_title = topic_a.find_element(\"xpath\",\"./div/h3\").get_attribute(\"innerHTML\")\n",
    "    current_target_folder = current_read_write_path+\"/{}. \".format(idx+1)+topic_title\n",
    "    os.makedirs(current_target_folder, exist_ok=False)\n",
    "    print(\"create folder: {}\".format(current_target_folder))\n",
    "\n",
    "    url = topic_a.get_attribute(\"href\")\n",
    "    driver.get(url)\n",
    "    close_chat_panel(driver, wait)\n",
    "    # loop though sub-topic\n",
    "    lis = sync_get_elements_by_xpath(driver,wait, \"//ul[@class='css-1kfpgwe']/li\")\n",
    "    for li in lis:\n",
    "        # open right side pane for switch sub-topics\n",
    "        toggle_open_btn = sync_get_element_by_xpath(driver,wait, \"//button[@class='chakra-button css-wc1vc9']\")\n",
    "        if toggle_open_btn is not None:\n",
    "            toggle_open_btn.click()\n",
    "        \n",
    "        # swich sub-topic\n",
    "        li.click()\n",
    "        \n",
    "        # close right side pane for taking screenshots\n",
    "        toggle_close_btn = sync_get_element_by_xpath(driver,wait, \"//button[@class='chakra-button css-1rtwe76']\")\n",
    "        if toggle_close_btn is not None:\n",
    "            toggle_close_btn.click()\n",
    "\n",
    "        # create sub-topic folder \n",
    "        sub_topic_title = li.find_element(\"xpath\",\"./a/p\").get_attribute(\"innerHTML\")\n",
    "        current_target_folder = current_read_write_path+\"/{}. \".format(idx+1)+topic_title+\"/\"+sub_topic_title\n",
    "        os.makedirs(current_target_folder, exist_ok=False)\n",
    "        print(\"create folder: {}\".format(current_target_folder))\n",
    "\n",
    "        time.sleep(3)\n",
    "        take_screenshot(driver.current_url,current_target_folder+\"/screenshot.png\",WEB_DRIVER_DEALY)\n",
    "\n",
    "\n",
    "    topic_urls.append(url)\n"
   ]
  },
  {
   "cell_type": "code",
   "execution_count": null,
   "metadata": {},
   "outputs": [],
   "source": [
    "# toggle_open_btn = sync_get_element_by_xpath(driver,wait, \"//button[@class='chakra-button css-wc1vc9']\")\n",
    "# if toggle_open_btn is not None:\n",
    "#     toggle_open_btn.click()\n",
    "# lis[1].click()\n",
    "# time.sleep(3)\n",
    "# toggle_close_btn = sync_get_element_by_xpath(driver,wait, \"//button[@class='chakra-button css-1rtwe76']\")\n",
    "# if toggle_close_btn is not None:\n",
    "#     toggle_close_btn.click()\n"
   ]
  },
  {
   "cell_type": "code",
   "execution_count": null,
   "metadata": {},
   "outputs": [],
   "source": [
    "# lis = sync_get_elements_by_xpath(driver,wait, \"//ul[@class='css-1kfpgwe']/li\")\n",
    "# lis[0].find_element(\"xpath\",\"./a\").get_attribute(\"href\")\n"
   ]
  },
  {
   "cell_type": "code",
   "execution_count": null,
   "metadata": {},
   "outputs": [],
   "source": [
    "# for topic_url in topic_urls:\n",
    "#     print(topic_url)"
   ]
  },
  {
   "cell_type": "code",
   "execution_count": null,
   "metadata": {},
   "outputs": [],
   "source": [
    "# driver.get(topic_urls[0])"
   ]
  },
  {
   "cell_type": "code",
   "execution_count": null,
   "metadata": {},
   "outputs": [],
   "source": [
    "# # get tab button web elements for different types of Curriculum: Core, Elective and Career\n",
    "# course_tab_elms = sync_get_elements_by_xpath(driver, wait, \"//div[@class='chakra-tabs__tab-panel css-1qbr3jw']\")\n",
    "\n",
    "# tab_buttons = sync_get_elements_by_xpath(driver, wait, \"//div[@class='chakra-tabs__tablist css-1cul31m']/button\")\n",
    "# for tab_button in tab_buttons:\n",
    "#     print(\"Type: {}\".format(tab_button.get_attribute(\"innerHTML\")))\n"
   ]
  },
  {
   "cell_type": "code",
   "execution_count": null,
   "metadata": {},
   "outputs": [],
   "source": [
    "# take_screenshot(\"https://learn.udacity.com/nanodegrees/nd880/parts/cd0569/lessons/288b2d68-a082-4bb4-96a3-7a353f662aa2/concepts/4feddc57-8a5f-48a8-82f0-b3d90b8f47aa\",\"main.png\",WEB_DRIVER_DEALY)\n"
   ]
  }
 ],
 "metadata": {
  "kernelspec": {
   "display_name": "Python 3 (ipykernel)",
   "language": "python",
   "name": "python3"
  },
  "language_info": {
   "codemirror_mode": {
    "name": "ipython",
    "version": 3
   },
   "file_extension": ".py",
   "mimetype": "text/x-python",
   "name": "python",
   "nbconvert_exporter": "python",
   "pygments_lexer": "ipython3",
   "version": "3.8.19"
  }
 },
 "nbformat": 4,
 "nbformat_minor": 4
}
