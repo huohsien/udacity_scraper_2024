{
 "cells": [
  {
   "cell_type": "code",
   "execution_count": 1,
   "metadata": {},
   "outputs": [],
   "source": [
    "from selenium import webdriver\n",
    "from webdriver_manager.chrome import ChromeDriverManager\n",
    "\n",
    "from selenium.webdriver.common.by import By\n",
    "from selenium.webdriver.common.keys import Keys\n",
    "\n",
    "from selenium.webdriver.chrome.options import Options\n",
    "\n",
    "from selenium.webdriver.common.action_chains import ActionChains\n",
    "from selenium.webdriver.support.ui import WebDriverWait\n",
    "from selenium.webdriver.support import expected_conditions as ec\n",
    "\n",
    "import time\n",
    "import os\n",
    "\n",
    "from bs4 import BeautifulSoup\n",
    "import re\n",
    "import pandas as pd\n",
    "\n",
    "import requests\n",
    "import os\n",
    "import urllib\n",
    "from urllib.parse import urlparse\n",
    "\n",
    "import subprocess\n"
   ]
  },
  {
   "cell_type": "code",
   "execution_count": 2,
   "metadata": {},
   "outputs": [],
   "source": [
    "#settings\n",
    "\n",
    "IMPLICIT_DELAY = 10\n",
    "EXPLICIT_DELAY = 10\n",
    "TAKE_SCREENSHOT = False"
   ]
  },
  {
   "cell_type": "code",
   "execution_count": 3,
   "metadata": {},
   "outputs": [],
   "source": [
    "# default settings for this Udacity program\n",
    "\n",
    "download_root_folder = \"\"\n",
    "current_read_write_path = \"\"\n",
    "\n",
    "# hard-coded entry url for the program\n",
    "root_address = 'https://learn.udacity.com/nanodegrees/nd880/parts/cd0569'"
   ]
  },
  {
   "cell_type": "code",
   "execution_count": 4,
   "metadata": {},
   "outputs": [],
   "source": [
    "#setup option for chrome profile\n",
    "chrome_options = Options()\n",
    "\n",
    "chrome_options.add_argument(\"user-data-dir=/Users/huohsien/Library/Application Support/Google/Chrome/Default/\")\n",
    "## the following option is to solve the error if using the above cause a problem\n",
    "# chrome_options.add_argument(\"--remote-debugging-port=9222\") \n",
    "\n",
    "prefs = {'profile.default_content_setting_values.automatic_downloads': 1}\n",
    "chrome_options.add_experimental_option(\"prefs\", prefs)\n",
    "if TAKE_SCREENSHOT:\n",
    "    chrome_options.add_argument('--headless')\n",
    "\n",
    "#start web driver\n",
    "driver = webdriver.Chrome(options=chrome_options)\n",
    "driver.implicitly_wait(IMPLICIT_DELAY)\n",
    "wait = WebDriverWait(driver, EXPLICIT_DELAY)"
   ]
  },
  {
   "cell_type": "code",
   "execution_count": 5,
   "metadata": {},
   "outputs": [],
   "source": [
    "from selenium.common.exceptions import NoSuchElementException\n",
    "from selenium.common.exceptions import TimeoutException\n",
    "from selenium.common.exceptions import ElementNotInteractableException\n",
    "\n",
    "def check_exists_by_xpath(driver, xpath):\n",
    "    try:\n",
    "        driver.find_element(\"xpath\",xpath)\n",
    "    except NoSuchElementException:\n",
    "        return False\n",
    "    return True\n",
    "\n",
    "def sync_get_element_by_xpath(driver, wait, xpath):\n",
    "\n",
    "    try:\n",
    "        wait.until(ec.presence_of_element_located((By.XPATH, xpath)))\n",
    "    except TimeoutException:\n",
    "#         print(\"Get element from xpath:{} Timeout\".format(xpath))\n",
    "        return None\n",
    "    return driver.find_element(\"xpath\",xpath)\n",
    "\n",
    "def sync_get_elements_by_xpath(driver, wait, xpath):\n",
    "\n",
    "    try:\n",
    "        wait.until(ec.presence_of_all_elements_located((By.XPATH, xpath)))\n",
    "    except TimeoutException:\n",
    "#         print(\"Get element from xpath:{} Timeout\".format(xpath))\n",
    "        return None\n",
    "    return driver.find_elements(\"xpath\",xpath)"
   ]
  },
  {
   "cell_type": "code",
   "execution_count": 6,
   "metadata": {},
   "outputs": [],
   "source": [
    "def take_screenshot(url, screenshot_file_path):\n",
    "    # start a new web driver headlessly to take screenshots\n",
    "\n",
    "    #setup option for chrome profile\n",
    "    chrome_options = Options()\n",
    "\n",
    "    # chrome_options.add_argument(\"user-data-dir=/Users/huohsien/Library/Application Support/Google/Chrome/Default/\")\n",
    "    ## the following option is to solve the error if using the above cause a problem\n",
    "    # chrome_options.add_argument(\"--remote-debugging-port=9222\") \n",
    "\n",
    "    prefs = {'profile.default_content_setting_values.automatic_downloads': 1}\n",
    "    chrome_options.add_experimental_option(\"prefs\", prefs)\n",
    "\n",
    "    chrome_options.add_argument('--headless')\n",
    "    chrome_options.add_argument(\"--start-maximized\")\n",
    "\n",
    "    #start web driver\n",
    "    driver_t = webdriver.Chrome(options=chrome_options)\n",
    "    driver_t.implicitly_wait(IMPLICIT_DELAY)\n",
    "    wait_t = WebDriverWait(driver_t, EXPLICIT_DELAY)\n",
    "\n",
    "\n",
    "    driver_t.get(url)\n",
    "    print(\"start headless temp chrome driver. get {}\".format(url))\n",
    "    \n",
    "    # sign in. when chrome_options user-data-dir is turned on, no need to sign in thus just need to wait for timeout\n",
    "\n",
    "    signin_btn = sync_get_element_by_xpath(driver_t, wait_t, \"//div[text()='Sign in']\")\n",
    "    if signin_btn is not None:\n",
    "        signin_btn.click()\n",
    "        print(\"switch to sign-in tab\")\n",
    "\n",
    "        email = sync_get_element_by_xpath(driver_t, wait_t, \"//input[@id='email']\")\n",
    "        password = sync_get_element_by_xpath(driver_t, wait_t, \"//input[@id='revealable-password']\")\n",
    "\n",
    "        if email is not None:\n",
    "            email.send_keys(\"huohsien@gmail.com\")\n",
    "        if password is not None:\n",
    "            password.send_keys(\"Huo18941256\")\n",
    "\n",
    "        signin_btn = sync_get_element_by_xpath(driver_t, wait_t, \"//div[@data-testid='signin-form']//span[text()='Sign in']/..\")\n",
    "        \n",
    "        signin_btn.click()\n",
    "        print(\"sign in\")\n",
    "\n",
    "        # close chaptgpt help side panel\n",
    "\n",
    "        btn = sync_get_element_by_xpath(driver_t, wait_t, \"//button[@class='chakra-button css-twu8br']\")\n",
    "        print(\"try to close chat panel\")\n",
    "        if btn is not None:\n",
    "            try:\n",
    "                btn.click()\n",
    "            except ElementNotInteractableException:\n",
    "                print(\"chat panel was closed\")\n",
    "        print(\"start sleeping for 5 secs\")\n",
    "        time.sleep(5)\n",
    "\n",
    "    height = driver_t.execute_script('var pageHeight = 0;function findHighestNode(nodesList) {for (var i = nodesList.length - 1; i >= 0; i--) {if (nodesList[i].scrollHeight && nodesList[i].clientHeight) {var elHeight = Math.max(nodesList[i].scrollHeight, nodesList[i].clientHeight);pageHeight = Math.max(elHeight, pageHeight);}if (nodesList[i].childNodes.length) findHighestNode(nodesList[i].childNodes);}} findHighestNode(document.documentElement.childNodes);return pageHeight;')\n",
    "    width  = driver_t.execute_script('return document.documentElement.scrollWidth')\n",
    "    driver_t.set_window_size(width, height)  # the trick\n",
    "    print(\"width: {} height: {}\".format(width,height))\n",
    "    \n",
    "    print(\"start sleeping for 2 secs\")\n",
    "    time.sleep(2)\n",
    "    driver_t.save_screenshot(screenshot_file_path)\n",
    "    driver_t.quit()"
   ]
  },
  {
   "cell_type": "code",
   "execution_count": 7,
   "metadata": {},
   "outputs": [],
   "source": [
    "# go to udacity\n",
    "driver.get(root_address)"
   ]
  },
  {
   "cell_type": "code",
   "execution_count": 8,
   "metadata": {},
   "outputs": [],
   "source": [
    "# # sign in. when chrome_options user-data-dir is turned on, no need to sign in thus just need to wait for timeout\n",
    "\n",
    "# signin_btn = sync_get_element_by_xpath(driver, wait, \"//div[text()='Sign in']\")\n",
    "# if signin_btn is not None:\n",
    "#     signin_btn.click()\n",
    "\n",
    "#     email = sync_get_element_by_xpath(driver, wait, \"//input[@id='email']\")\n",
    "#     password = sync_get_element_by_xpath(driver, wait, \"//input[@id='revealable-password']\")\n",
    "\n",
    "#     if email is not None:\n",
    "#         email.send_keys(\"huohsien@gmail.com\")\n",
    "#     if password is not None:\n",
    "#         password.send_keys(\"Huo18941256\")\n",
    "\n",
    "#     signin_btn = sync_get_element_by_xpath(driver, wait, \"//div[@data-testid='signin-form']//span[text()='Sign in']/..\")\n",
    "#     if signin_btn is not None:\n",
    "#         signin_btn.click()\n"
   ]
  },
  {
   "cell_type": "code",
   "execution_count": 9,
   "metadata": {},
   "outputs": [],
   "source": [
    "# get the name of the program and create the root folder for storing the scraped result\n",
    "program_name = sync_get_element_by_xpath(driver, wait, \"//h1[@class='chakra-heading css-10cnqhb']\").get_attribute(\"innerHTML\")\n",
    "download_root_folder = program_name\n",
    "current_read_write_path = download_root_folder\n",
    "os.makedirs(current_read_write_path, exist_ok=False)"
   ]
  },
  {
   "cell_type": "code",
   "execution_count": 10,
   "metadata": {},
   "outputs": [],
   "source": [
    "# get the two main part of this program. Hard coded!\n",
    "course_content_blk1 = sync_get_elements_by_xpath(driver, wait, \"//div[@class='chakra-tabs__tab-panels css-8atqhb']/div[1]//div[@class='css-pk1kta']\")[0]\n",
    "course_content_blk2 = sync_get_elements_by_xpath(driver, wait, \"//div[@class='chakra-tabs__tab-panels css-8atqhb']/div[1]//div[@class='css-1vc4pt9']\")[0] "
   ]
  },
  {
   "cell_type": "code",
   "execution_count": 11,
   "metadata": {},
   "outputs": [],
   "source": [
    "# create folder structure for storing the scraped data for the Udacity program\n",
    "title_first_part = course_content_blk1.find_element(\"xpath\", \"./div/div/button/div/div[1]/div/div/h2\").get_attribute(\"innerHTML\")\n",
    "title_second_part = course_content_blk2.find_element(\"xpath\", \"./div/div/button/div/div[1]/div/div/h2\").get_attribute(\"innerHTML\")\n",
    "\n",
    "# keep reminding myself the current read/write folder\n",
    "current_target_folder = current_read_write_path+\"/1. \"+title_first_part\n",
    "os.makedirs(current_target_folder, exist_ok=False)\n",
    "current_target_folder = current_read_write_path+\"/2. \"+title_second_part\n",
    "os.makedirs(current_target_folder, exist_ok=False)"
   ]
  },
  {
   "cell_type": "code",
   "execution_count": 12,
   "metadata": {},
   "outputs": [],
   "source": [
    "# get all the web elements of topics in the first part of the program\n",
    "class_as = course_content_blk1.find_elements(\"xpath\", \"./div/div/div/div/a\")"
   ]
  },
  {
   "cell_type": "code",
   "execution_count": 13,
   "metadata": {},
   "outputs": [
    {
     "name": "stdout",
     "output_type": "stream",
     "text": [
      "create folder: AI for Trading/1. Quantitative Trading/0. Welcome to the Nanodegree Program\n"
     ]
    }
   ],
   "source": [
    "current_read_write_path = download_root_folder+\"/1. \"+title_first_part\n",
    "topic_urls = []\n",
    "class_as = course_content_blk1.find_elements(\"xpath\", \"./div/div/div/div/a\")\n",
    "\n",
    "# for idx in range(len(class_as)):\n",
    "for idx in[0]:\n",
    "    class_a = class_as[idx]\n",
    "    class_title = class_a.find_element(\"xpath\",\"./div/h3\").get_attribute(\"innerHTML\")\n",
    "    current_target_folder = current_read_write_path+\"/{}. \".format(idx)+class_title\n",
    "    os.makedirs(current_target_folder, exist_ok=False)\n",
    "    print(\"create folder: {}\".format(current_target_folder))\n",
    "\n",
    "    url = class_a.get_attribute(\"href\")\n",
    "    \n",
    "    topic_urls.append(url)\n"
   ]
  },
  {
   "cell_type": "code",
   "execution_count": 14,
   "metadata": {},
   "outputs": [],
   "source": [
    "# take_screenshot(url,current_target_folder+\"/screenshot.png\")"
   ]
  },
  {
   "cell_type": "code",
   "execution_count": 15,
   "metadata": {},
   "outputs": [
    {
     "name": "stdout",
     "output_type": "stream",
     "text": [
      "https://learn.udacity.com/nanodegrees/nd880/parts/cd0569/lessons/ff736671-9e1a-4f97-b73d-a5211598c2ec\n"
     ]
    }
   ],
   "source": [
    "for topic_url in topic_urls:\n",
    "    print(topic_url)"
   ]
  },
  {
   "cell_type": "code",
   "execution_count": 16,
   "metadata": {},
   "outputs": [],
   "source": [
    "driver.get(topic_urls[0])"
   ]
  },
  {
   "cell_type": "code",
   "execution_count": 17,
   "metadata": {},
   "outputs": [
    {
     "name": "stdout",
     "output_type": "stream",
     "text": [
      "chatgpt panel was closed\n"
     ]
    }
   ],
   "source": [
    "# close chaptgpt help side panel\n",
    "btn = sync_get_element_by_xpath(driver, wait, \"//button[@class='chakra-button css-twu8br']\")\n",
    "if btn is not None:\n",
    "    try:\n",
    "        btn.click()\n",
    "    except ElementNotInteractableException:\n",
    "        print(\"chatgpt panel was closed\")"
   ]
  },
  {
   "cell_type": "code",
   "execution_count": 18,
   "metadata": {},
   "outputs": [],
   "source": [
    "def grab_all_youtube_links(content_html_str, download=False):\n",
    "\n",
    "    content_soup = BeautifulSoup(content_html_str, 'html.parser')\n",
    "    youtube_iframe_elms = content_soup.find_all('iframe', {'title': 'YouTube video player'})\n",
    "    video_links = ''\n",
    "    for idx, youtube_iframe_elm in enumerate(youtube_iframe_elms, start=1):\n",
    "        video_link = youtube_iframe_elm['src']\n",
    "        video_link = video_link + '#index={}_{}_{}_{}'.format(topic_name,lesson_name, part_name,idx)\n",
    "        video_links = video_links + video_link + '\\n\\n'\n",
    "\n",
    "\n",
    "    with open('all_youtube_video_links.txt','a') as fp:\n",
    "        fp.writelines(video_links)"
   ]
  },
  {
   "cell_type": "code",
   "execution_count": 19,
   "metadata": {},
   "outputs": [],
   "source": [
    "# e_header = sync_get_elements_by_xpath(driver, wait, \"//div[@class='css-4nu87b']\")\n",
    "# e_content = sync_get_elements_by_xpath(driver, wait, \"//div[@class='css-dmdipe']\")\n",
    "\n",
    "# header_height = int(e_header[0].get_attribute(\"scrollHeight\"))\n",
    "# content_height = int(e_content[0].get_attribute(\"scrollHeight\"))\n",
    "\n",
    "# full_page_height = content_height+header_height\n",
    "\n",
    "# full_page_width = int(e_header[0].get_attribute(\"scrollWidth\"))"
   ]
  },
  {
   "cell_type": "code",
   "execution_count": 20,
   "metadata": {},
   "outputs": [],
   "source": [
    "if TAKE_SCREENSHOT:\n",
    "\n",
    "    driver.set_window_size(full_page_width,full_page_height)\n",
    "\n",
    "    el = driver.find_element(By.TAG_NAME, \"body\")\n",
    "    el.screenshot(\"main.png\")\n"
   ]
  },
  {
   "cell_type": "code",
   "execution_count": 21,
   "metadata": {},
   "outputs": [],
   "source": [
    "# # get tab button web elements for different types of Curriculum: Core, Elective and Career\n",
    "# course_tab_elms = sync_get_elements_by_xpath(driver, wait, \"//div[@class='chakra-tabs__tab-panel css-1qbr3jw']\")\n",
    "\n",
    "# tab_buttons = sync_get_elements_by_xpath(driver, wait, \"//div[@class='chakra-tabs__tablist css-1cul31m']/button\")\n",
    "# for tab_button in tab_buttons:\n",
    "#     print(\"Type: {}\".format(tab_button.get_attribute(\"innerHTML\")))\n"
   ]
  },
  {
   "cell_type": "code",
   "execution_count": 22,
   "metadata": {},
   "outputs": [],
   "source": [
    "# take_screenshot(\"https://learn.udacity.com/nanodegrees/nd880/parts/cd0569/lessons/ff736671-9e1a-4f97-b73d-a5211598c2ec/concepts/ee2c9346-f9d4-4bef-8456-b54ddfeec2b5\",\"main.png\")"
   ]
  },
  {
   "cell_type": "code",
   "execution_count": 25,
   "metadata": {},
   "outputs": [
    {
     "name": "stdout",
     "output_type": "stream",
     "text": [
      "start headless temp chrome driver. get https://learn.udacity.com/nanodegrees/nd880/parts/cd0569/lessons/288b2d68-a082-4bb4-96a3-7a353f662aa2/concepts/4feddc57-8a5f-48a8-82f0-b3d90b8f47aa\n",
      "save screenshot to main.png\n",
      "quit headless temp chrome driver\n"
     ]
    }
   ],
   "source": [
    "def test_fullpage_screenshot(url, screenshot_file_path):\n",
    "\n",
    "    # start a new web driver headlessly to take screenshots\n",
    "\n",
    "    #setup option for chrome profile\n",
    "    chrome_options = Options()\n",
    "\n",
    "    # chrome_options.add_argument(\"user-data-dir=/Users/huohsien/Library/Application Support/Google/Chrome/Default/\")\n",
    "    ## the following option is to solve the error if using the above cause a problem\n",
    "    # chrome_options.add_argument(\"--remote-debugging-port=9222\") \n",
    "\n",
    "    prefs = {'profile.default_content_setting_values.automatic_downloads': 1}\n",
    "    chrome_options.add_experimental_option(\"prefs\", prefs)\n",
    "\n",
    "    chrome_options.add_argument('--headless')\n",
    "    chrome_options.add_argument(\"--start-maximized\")\n",
    "\n",
    "    #start web driver\n",
    "    driver_t = webdriver.Chrome(options=chrome_options)\n",
    "    driver_t.implicitly_wait(IMPLICIT_DELAY)\n",
    "    wait_t = WebDriverWait(driver_t, EXPLICIT_DELAY)\n",
    "\n",
    "\n",
    "    driver_t.get(url)\n",
    "    print(\"start headless temp chrome driver. get {}\".format(url))\n",
    "    \n",
    "    # sign in. when chrome_options user-data-dir is turned on, no need to sign in thus just need to wait for timeout\n",
    "\n",
    "    signin_btn = sync_get_element_by_xpath(driver_t, wait_t, \"//div[text()='Sign in']\")\n",
    "    if signin_btn is not None:\n",
    "        signin_btn.click()\n",
    "\n",
    "        email = sync_get_element_by_xpath(driver_t, wait_t, \"//input[@id='email']\")\n",
    "        password = sync_get_element_by_xpath(driver_t, wait_t, \"//input[@id='revealable-password']\")\n",
    "\n",
    "        if email is not None:\n",
    "            email.send_keys(\"huohsien@gmail.com\")\n",
    "        if password is not None:\n",
    "            password.send_keys(\"Huo18941256\")\n",
    "\n",
    "        signin_btn = sync_get_element_by_xpath(driver_t, wait_t, \"//div[@data-testid='signin-form']//span[text()='Sign in']/..\")\n",
    "\n",
    "        signin_btn.click()\n",
    "\n",
    "        # close chaptgpt help side panel\n",
    "\n",
    "        btn = sync_get_element_by_xpath(driver_t, wait_t, \"//button[@class='chakra-button css-twu8br']\")\n",
    "        if btn is not None:\n",
    "            try:\n",
    "                btn.click()\n",
    "            except ElementNotInteractableException:\n",
    "                print(\"chatgpt panel was closed\")\n",
    "\n",
    "        time.sleep(5)\n",
    "\n",
    "    height = driver_t.execute_script('var pageHeight = 0;function findHighestNode(nodesList) {for (var i = nodesList.length - 1; i >= 0; i--) {if (nodesList[i].scrollHeight && nodesList[i].clientHeight) {var elHeight = Math.max(nodesList[i].scrollHeight, nodesList[i].clientHeight);pageHeight = Math.max(elHeight, pageHeight);}if (nodesList[i].childNodes.length) findHighestNode(nodesList[i].childNodes);}} findHighestNode(document.documentElement.childNodes);return pageHeight;')\n",
    "    width  = driver_t.execute_script('return document.documentElement.scrollWidth')\n",
    "    driver_t.set_window_size(width, height)  # the trick\n",
    "    print(\"width: {} height: {}\".format(width,height))\n",
    "    time.sleep(2)\n",
    "    driver_t.save_screenshot(screenshot_file_path)\n",
    "    driver_t.quit()\n",
    "# test_fullpage_screenshot(\"https://learn.udacity.com/nanodegrees/nd880/parts/cd0569/lessons/288b2d68-a082-4bb4-96a3-7a353f662aa2/concepts/4feddc57-8a5f-48a8-82f0-b3d90b8f47aa\")\n"
   ]
  }
 ],
 "metadata": {
  "kernelspec": {
   "display_name": "Python 3",
   "language": "python",
   "name": "python3"
  },
  "language_info": {
   "codemirror_mode": {
    "name": "ipython",
    "version": 3
   },
   "file_extension": ".py",
   "mimetype": "text/x-python",
   "name": "python",
   "nbconvert_exporter": "python",
   "pygments_lexer": "ipython3",
   "version": "3.8.19"
  }
 },
 "nbformat": 4,
 "nbformat_minor": 4
}
